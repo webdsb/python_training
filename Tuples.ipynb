{
 "cells": [
  {
   "cell_type": "code",
   "execution_count": 1,
   "id": "22e8ebd1-4100-4da3-a7d2-1f6f02b98e97",
   "metadata": {},
   "outputs": [],
   "source": [
    "i = 3"
   ]
  },
  {
   "cell_type": "code",
   "execution_count": 3,
   "id": "2cd48cfa-48cf-4388-be62-f53a50ef0a66",
   "metadata": {},
   "outputs": [
    {
     "data": {
      "text/plain": [
       "int"
      ]
     },
     "execution_count": 3,
     "metadata": {},
     "output_type": "execute_result"
    }
   ],
   "source": [
    "type(i)"
   ]
  },
  {
   "cell_type": "code",
   "execution_count": 5,
   "id": "7ddde9f4-f5ae-412c-b035-88f6fcb4d374",
   "metadata": {},
   "outputs": [],
   "source": [
    "i=3,"
   ]
  },
  {
   "cell_type": "code",
   "execution_count": 7,
   "id": "de05c54e-e24f-4b7c-8916-34e5947022fa",
   "metadata": {},
   "outputs": [
    {
     "data": {
      "text/plain": [
       "tuple"
      ]
     },
     "execution_count": 7,
     "metadata": {},
     "output_type": "execute_result"
    }
   ],
   "source": [
    "type(i)"
   ]
  },
  {
   "cell_type": "code",
   "execution_count": 9,
   "id": "0fd7b55b-6231-459f-beaf-ace2cea2805d",
   "metadata": {},
   "outputs": [],
   "source": [
    "i = (3)"
   ]
  },
  {
   "cell_type": "code",
   "execution_count": 11,
   "id": "02d902c8-01ec-4fb2-bcff-c8d4a62bf99d",
   "metadata": {},
   "outputs": [
    {
     "data": {
      "text/plain": [
       "int"
      ]
     },
     "execution_count": 11,
     "metadata": {},
     "output_type": "execute_result"
    }
   ],
   "source": [
    "type(i)"
   ]
  },
  {
   "cell_type": "code",
   "execution_count": 13,
   "id": "5d21da5e-01e6-44fc-913d-17417cd2ba1b",
   "metadata": {},
   "outputs": [],
   "source": [
    "i=(3,)"
   ]
  },
  {
   "cell_type": "code",
   "execution_count": 15,
   "id": "816deac6-813e-4fe2-a0dc-8e46ebb94e60",
   "metadata": {},
   "outputs": [
    {
     "data": {
      "text/plain": [
       "tuple"
      ]
     },
     "execution_count": 15,
     "metadata": {},
     "output_type": "execute_result"
    }
   ],
   "source": [
    "type(i)"
   ]
  },
  {
   "cell_type": "code",
   "execution_count": 17,
   "id": "5f3941c7-e2f3-46da-915a-c0ee3182d2f8",
   "metadata": {},
   "outputs": [],
   "source": [
    "item = (1234,'Item 1', True)"
   ]
  },
  {
   "cell_type": "code",
   "execution_count": 19,
   "id": "d0dc6ace-e892-432e-957b-d6bb1fe15bf3",
   "metadata": {},
   "outputs": [],
   "source": [
    "iid, name, available=item #unpacking"
   ]
  },
  {
   "cell_type": "code",
   "execution_count": 21,
   "id": "fee9c4e9-6570-49ca-8daf-f134478511b1",
   "metadata": {},
   "outputs": [
    {
     "data": {
      "text/plain": [
       "1234"
      ]
     },
     "execution_count": 21,
     "metadata": {},
     "output_type": "execute_result"
    }
   ],
   "source": [
    "iid"
   ]
  },
  {
   "cell_type": "code",
   "execution_count": 23,
   "id": "e5633802-c910-4c53-9cf6-2eaadf508c83",
   "metadata": {},
   "outputs": [
    {
     "data": {
      "text/plain": [
       "'Item 1'"
      ]
     },
     "execution_count": 23,
     "metadata": {},
     "output_type": "execute_result"
    }
   ],
   "source": [
    "name"
   ]
  },
  {
   "cell_type": "code",
   "execution_count": 25,
   "id": "de3b76ea-57f4-40a8-a85e-85dcc9fecaa0",
   "metadata": {},
   "outputs": [
    {
     "data": {
      "text/plain": [
       "True"
      ]
     },
     "execution_count": 25,
     "metadata": {},
     "output_type": "execute_result"
    }
   ],
   "source": [
    "item[-1]"
   ]
  },
  {
   "cell_type": "code",
   "execution_count": 27,
   "id": "d63c08a9-456a-4530-8c75-b63ca4c326c7",
   "metadata": {},
   "outputs": [
    {
     "ename": "TypeError",
     "evalue": "'tuple' object does not support item assignment",
     "output_type": "error",
     "traceback": [
      "\u001b[1;31m---------------------------------------------------------------------------\u001b[0m",
      "\u001b[1;31mTypeError\u001b[0m                                 Traceback (most recent call last)",
      "Cell \u001b[1;32mIn[27], line 1\u001b[0m\n\u001b[1;32m----> 1\u001b[0m item[\u001b[38;5;241m0\u001b[39m] \u001b[38;5;241m=\u001b[39m \u001b[38;5;241m5\u001b[39m\n",
      "\u001b[1;31mTypeError\u001b[0m: 'tuple' object does not support item assignment"
     ]
    }
   ],
   "source": [
    "item[0] = 5 #will error b/c it's immutable"
   ]
  },
  {
   "cell_type": "code",
   "execution_count": null,
   "id": "316089de-60a2-4c85-9777-a568e86905d3",
   "metadata": {},
   "outputs": [],
   "source": []
  }
 ],
 "metadata": {
  "kernelspec": {
   "display_name": "Python 3 (ipykernel)",
   "language": "python",
   "name": "python3"
  },
  "language_info": {
   "codemirror_mode": {
    "name": "ipython",
    "version": 3
   },
   "file_extension": ".py",
   "mimetype": "text/x-python",
   "name": "python",
   "nbconvert_exporter": "python",
   "pygments_lexer": "ipython3",
   "version": "3.12.4"
  }
 },
 "nbformat": 4,
 "nbformat_minor": 5
}
