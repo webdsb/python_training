{
 "cells": [
  {
   "cell_type": "code",
   "execution_count": 1,
   "id": "7d095c33-97cb-4c2d-b0c5-074f60c53320",
   "metadata": {},
   "outputs": [],
   "source": [
    "dict1 = {'key1':123, 'key2':456}"
   ]
  },
  {
   "cell_type": "code",
   "execution_count": 3,
   "id": "b1c38b23-1dca-4c90-889d-14f20be82878",
   "metadata": {},
   "outputs": [],
   "source": [
    "dict2 = {}"
   ]
  },
  {
   "cell_type": "code",
   "execution_count": 5,
   "id": "f65a0541-e5ed-4643-bc24-ffade25ad0ff",
   "metadata": {},
   "outputs": [
    {
     "data": {
      "text/plain": [
       "{'key1': 123, 'key2': 456}"
      ]
     },
     "execution_count": 5,
     "metadata": {},
     "output_type": "execute_result"
    }
   ],
   "source": [
    "dict1"
   ]
  },
  {
   "cell_type": "code",
   "execution_count": 7,
   "id": "86570b12-ee27-4725-b783-496d77967d58",
   "metadata": {},
   "outputs": [
    {
     "data": {
      "text/plain": [
       "{}"
      ]
     },
     "execution_count": 7,
     "metadata": {},
     "output_type": "execute_result"
    }
   ],
   "source": [
    "dict2"
   ]
  },
  {
   "cell_type": "code",
   "execution_count": 11,
   "id": "d1d1c878-e518-4cf4-a9bf-3271688b2e48",
   "metadata": {},
   "outputs": [
    {
     "data": {
      "text/plain": [
       "123"
      ]
     },
     "execution_count": 11,
     "metadata": {},
     "output_type": "execute_result"
    }
   ],
   "source": [
    "dict1['key1']"
   ]
  },
  {
   "cell_type": "code",
   "execution_count": 15,
   "id": "1a04f980-89d5-4d60-bad6-a5db7575d3ca",
   "metadata": {},
   "outputs": [
    {
     "data": {
      "text/plain": [
       "dict_keys(['key1', 'key2'])"
      ]
     },
     "execution_count": 15,
     "metadata": {},
     "output_type": "execute_result"
    }
   ],
   "source": [
    "dict1.keys()"
   ]
  },
  {
   "cell_type": "code",
   "execution_count": 23,
   "id": "67099af2-09ca-4e54-b0ce-3cf4606d2db6",
   "metadata": {},
   "outputs": [
    {
     "data": {
      "text/plain": [
       "'Key does not exists'"
      ]
     },
     "execution_count": 23,
     "metadata": {},
     "output_type": "execute_result"
    }
   ],
   "source": [
    "dict1.get('key3', 'Key does not exists')"
   ]
  },
  {
   "cell_type": "code",
   "execution_count": 25,
   "id": "28a425af-323b-4fa2-a300-b1d722508079",
   "metadata": {},
   "outputs": [
    {
     "data": {
      "text/plain": [
       "456"
      ]
     },
     "execution_count": 25,
     "metadata": {},
     "output_type": "execute_result"
    }
   ],
   "source": [
    "dict1.get('key2', 'Key does not exists')"
   ]
  },
  {
   "cell_type": "code",
   "execution_count": 27,
   "id": "00dd1c22-8411-4eda-b214-6155f867d099",
   "metadata": {},
   "outputs": [
    {
     "ename": "AttributeError",
     "evalue": "'dict' object has no attribute 'set'",
     "output_type": "error",
     "traceback": [
      "\u001b[1;31m---------------------------------------------------------------------------\u001b[0m",
      "\u001b[1;31mAttributeError\u001b[0m                            Traceback (most recent call last)",
      "Cell \u001b[1;32mIn[27], line 1\u001b[0m\n\u001b[1;32m----> 1\u001b[0m dict1\u001b[38;5;241m.\u001b[39mset(\u001b[38;5;124m'\u001b[39m\u001b[38;5;124mkey2\u001b[39m\u001b[38;5;124m'\u001b[39m, \u001b[38;5;241m9000\u001b[39m); dict1[\u001b[38;5;124m'\u001b[39m\u001b[38;5;124mkey2\u001b[39m\u001b[38;5;124m'\u001b[39m]\n",
      "\u001b[1;31mAttributeError\u001b[0m: 'dict' object has no attribute 'set'"
     ]
    }
   ],
   "source": [
    "dict1.set('key2', 9000); dict1['key2'] #notavailable in python 3"
   ]
  },
  {
   "cell_type": "code",
   "execution_count": 33,
   "id": "d6367dff-25c5-497d-ba65-569b27241774",
   "metadata": {},
   "outputs": [
    {
     "data": {
      "text/plain": [
       "9000"
      ]
     },
     "execution_count": 33,
     "metadata": {},
     "output_type": "execute_result"
    }
   ],
   "source": [
    "dict1['key2'] = 9000; dict1['key2']"
   ]
  },
  {
   "cell_type": "code",
   "execution_count": 37,
   "id": "e656850b-fe16-4a47-961d-dd27c9bc1f12",
   "metadata": {},
   "outputs": [
    {
     "data": {
      "text/plain": [
       "{'key1': 123, 'key2': 9000, 'key3': 1000}"
      ]
     },
     "execution_count": 37,
     "metadata": {},
     "output_type": "execute_result"
    }
   ],
   "source": [
    "dict1['key3'] = 1000;dict1"
   ]
  },
  {
   "cell_type": "code",
   "execution_count": 39,
   "id": "450cf0c0-0fe4-4c28-8697-b7366f903cb3",
   "metadata": {},
   "outputs": [
    {
     "name": "stdout",
     "output_type": "stream",
     "text": [
      "key1\n",
      "key2\n",
      "key3\n"
     ]
    }
   ],
   "source": [
    "for i in dict1:\n",
    "    print(i)"
   ]
  },
  {
   "cell_type": "code",
   "execution_count": 41,
   "id": "b38795c4-600a-4d97-b381-7b1854569566",
   "metadata": {},
   "outputs": [
    {
     "name": "stdout",
     "output_type": "stream",
     "text": [
      "key1\n",
      "key2\n",
      "key3\n"
     ]
    }
   ],
   "source": [
    "for i in dict1.keys():\n",
    "    print(i)"
   ]
  },
  {
   "cell_type": "code",
   "execution_count": 43,
   "id": "e7fe592b-d959-4cf6-9c38-ec0d9077a5af",
   "metadata": {},
   "outputs": [
    {
     "name": "stdout",
     "output_type": "stream",
     "text": [
      "123\n",
      "9000\n",
      "1000\n"
     ]
    }
   ],
   "source": [
    "for i in dict1.values():\n",
    "    print(i)"
   ]
  },
  {
   "cell_type": "code",
   "execution_count": 47,
   "id": "a7aee09d-1b5d-4abf-985e-a55f1eea9cd8",
   "metadata": {},
   "outputs": [
    {
     "name": "stdout",
     "output_type": "stream",
     "text": [
      "The key is:  key1 The value is: 123\n",
      "The key is:  key2 The value is: 9000\n",
      "The key is:  key3 The value is: 1000\n"
     ]
    }
   ],
   "source": [
    "for i,j in dict1.items():\n",
    "    print('The key is: ', i,'The value is:',j)"
   ]
  },
  {
   "cell_type": "code",
   "execution_count": 49,
   "id": "c2e19d26-bc31-4bf5-a2f5-db492631dba4",
   "metadata": {},
   "outputs": [],
   "source": [
    "s = {2,3,4,5} #set - only keys, not values"
   ]
  },
  {
   "cell_type": "code",
   "execution_count": 51,
   "id": "6a4ddea4-23ed-4521-aade-4bf3347db737",
   "metadata": {},
   "outputs": [
    {
     "data": {
      "text/plain": [
       "{2, 3, 4, 5, 10}"
      ]
     },
     "execution_count": 51,
     "metadata": {},
     "output_type": "execute_result"
    }
   ],
   "source": [
    "s.add(10); s"
   ]
  },
  {
   "cell_type": "code",
   "execution_count": 53,
   "id": "4ce1e3f7-9489-40b7-a1e7-05baf0902a8c",
   "metadata": {},
   "outputs": [
    {
     "data": {
      "text/plain": [
       "{10, 2, 3, 4, 5, 'test', 'update'}"
      ]
     },
     "execution_count": 53,
     "metadata": {},
     "output_type": "execute_result"
    }
   ],
   "source": [
    "s.update({'test','update'}); s"
   ]
  },
  {
   "cell_type": "code",
   "execution_count": 55,
   "id": "28deb3eb-dc10-49a7-93fb-ea751cf45b59",
   "metadata": {},
   "outputs": [],
   "source": [
    "s1={1,2,3,4,5}\n",
    "s2={3,4,5,6,7}"
   ]
  },
  {
   "cell_type": "code",
   "execution_count": 57,
   "id": "973162a0-4296-4ebc-9fcf-fc40778b9ce7",
   "metadata": {},
   "outputs": [
    {
     "data": {
      "text/plain": [
       "{3, 4, 5}"
      ]
     },
     "execution_count": 57,
     "metadata": {},
     "output_type": "execute_result"
    }
   ],
   "source": [
    "s1  & s2 #intersect"
   ]
  },
  {
   "cell_type": "code",
   "execution_count": 59,
   "id": "f9827ef3-912a-4051-934e-d3835d302fdc",
   "metadata": {},
   "outputs": [
    {
     "data": {
      "text/plain": [
       "{1, 2, 3, 4, 5, 6, 7}"
      ]
     },
     "execution_count": 59,
     "metadata": {},
     "output_type": "execute_result"
    }
   ],
   "source": [
    "s1 | s2 # union"
   ]
  },
  {
   "cell_type": "code",
   "execution_count": 61,
   "id": "7969148e-2749-4c08-84ac-5964d0bfe348",
   "metadata": {},
   "outputs": [
    {
     "data": {
      "text/plain": [
       "1"
      ]
     },
     "execution_count": 61,
     "metadata": {},
     "output_type": "execute_result"
    }
   ],
   "source": [
    "min(s1)"
   ]
  },
  {
   "cell_type": "code",
   "execution_count": 63,
   "id": "45484fd6-eb12-4209-beda-469b37606b82",
   "metadata": {},
   "outputs": [
    {
     "data": {
      "text/plain": [
       "{1, 2, 6, 7}"
      ]
     },
     "execution_count": 63,
     "metadata": {},
     "output_type": "execute_result"
    }
   ],
   "source": [
    "s1 ^ s2 #xor what is different in the 2"
   ]
  },
  {
   "cell_type": "code",
   "execution_count": 67,
   "id": "ae0f5aac-abae-4987-85bd-7f955c29c315",
   "metadata": {},
   "outputs": [
    {
     "data": {
      "text/plain": [
       "{1, 2}"
      ]
     },
     "execution_count": 67,
     "metadata": {},
     "output_type": "execute_result"
    }
   ],
   "source": [
    "s1-s2 #what's in list 1 not in list 2"
   ]
  },
  {
   "cell_type": "code",
   "execution_count": 69,
   "id": "6d399f13-d907-48d2-8ac4-9ba85e07820a",
   "metadata": {},
   "outputs": [
    {
     "data": {
      "text/plain": [
       "{6, 7}"
      ]
     },
     "execution_count": 69,
     "metadata": {},
     "output_type": "execute_result"
    }
   ],
   "source": [
    "s2-s1"
   ]
  },
  {
   "cell_type": "code",
   "execution_count": null,
   "id": "8129edaf-055c-41b5-b9dd-66bdf1c7ba4a",
   "metadata": {},
   "outputs": [],
   "source": []
  }
 ],
 "metadata": {
  "kernelspec": {
   "display_name": "Python 3 (ipykernel)",
   "language": "python",
   "name": "python3"
  },
  "language_info": {
   "codemirror_mode": {
    "name": "ipython",
    "version": 3
   },
   "file_extension": ".py",
   "mimetype": "text/x-python",
   "name": "python",
   "nbconvert_exporter": "python",
   "pygments_lexer": "ipython3",
   "version": "3.12.4"
  }
 },
 "nbformat": 4,
 "nbformat_minor": 5
}
