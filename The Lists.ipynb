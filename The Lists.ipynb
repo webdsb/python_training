{
 "cells": [
  {
   "cell_type": "code",
   "execution_count": 1,
   "id": "38118d3e-c401-470b-9b85-9cc06100bec9",
   "metadata": {},
   "outputs": [],
   "source": [
    "list_of_anything = ['apples', 12, 34.99, True]"
   ]
  },
  {
   "cell_type": "code",
   "execution_count": 3,
   "id": "b4638773-285b-4f8c-85c5-8fec48b3e044",
   "metadata": {},
   "outputs": [],
   "source": [
    "list_of_strings = ['apple', 'orange', 'kiwi']"
   ]
  },
  {
   "cell_type": "code",
   "execution_count": 5,
   "id": "a940f6b5-e798-4d16-9b8c-3917d845d278",
   "metadata": {},
   "outputs": [
    {
     "data": {
      "text/plain": [
       "'orange'"
      ]
     },
     "execution_count": 5,
     "metadata": {},
     "output_type": "execute_result"
    }
   ],
   "source": [
    "list_of_strings[1]"
   ]
  },
  {
   "cell_type": "code",
   "execution_count": 19,
   "id": "91c8830d-ba8d-4a7d-bb39-8c4ec4fe46e2",
   "metadata": {},
   "outputs": [
    {
     "data": {
      "text/plain": [
       "'kiwi'"
      ]
     },
     "execution_count": 19,
     "metadata": {},
     "output_type": "execute_result"
    }
   ],
   "source": [
    "list_of_strings[-1]"
   ]
  },
  {
   "cell_type": "code",
   "execution_count": 21,
   "id": "e0325916-7162-472f-a2bd-4e0476a00232",
   "metadata": {},
   "outputs": [
    {
     "data": {
      "text/plain": [
       "'apple'"
      ]
     },
     "execution_count": 21,
     "metadata": {},
     "output_type": "execute_result"
    }
   ],
   "source": [
    "list_of_strings[-3]"
   ]
  },
  {
   "cell_type": "code",
   "execution_count": 11,
   "id": "7a8e9b90-fdc2-4345-b5e5-d042902cd2e3",
   "metadata": {},
   "outputs": [
    {
     "data": {
      "text/plain": [
       "['orange', 'kiwi']"
      ]
     },
     "execution_count": 11,
     "metadata": {},
     "output_type": "execute_result"
    }
   ],
   "source": [
    "list_of_strings[1:3]"
   ]
  },
  {
   "cell_type": "code",
   "execution_count": 23,
   "id": "1634d210-5ead-4a64-bafb-608084b53012",
   "metadata": {},
   "outputs": [],
   "source": [
    "alist = [1,2,3,4,5]"
   ]
  },
  {
   "cell_type": "code",
   "execution_count": 25,
   "id": "602fa7fd-9ef4-4df4-a314-eec6ef1ec522",
   "metadata": {},
   "outputs": [
    {
     "data": {
      "text/plain": [
       "list"
      ]
     },
     "execution_count": 25,
     "metadata": {},
     "output_type": "execute_result"
    }
   ],
   "source": [
    "type(alist)"
   ]
  },
  {
   "cell_type": "code",
   "execution_count": 29,
   "id": "a5105ad5-32d9-4aa4-b1ac-346c067a9b81",
   "metadata": {},
   "outputs": [],
   "source": [
    "blist=[1,2,3,4,[5,6]]"
   ]
  },
  {
   "cell_type": "code",
   "execution_count": 31,
   "id": "96b6bbb9-960a-4066-93de-9fd809b1c8d6",
   "metadata": {},
   "outputs": [
    {
     "data": {
      "text/plain": [
       "5"
      ]
     },
     "execution_count": 31,
     "metadata": {},
     "output_type": "execute_result"
    }
   ],
   "source": [
    "blist[-1][0]"
   ]
  },
  {
   "cell_type": "code",
   "execution_count": 33,
   "id": "78b131d2-296c-4e84-abec-52f301ec6bec",
   "metadata": {},
   "outputs": [
    {
     "data": {
      "text/plain": [
       "5"
      ]
     },
     "execution_count": 33,
     "metadata": {},
     "output_type": "execute_result"
    }
   ],
   "source": [
    "blist[4][0]"
   ]
  },
  {
   "cell_type": "code",
   "execution_count": 3,
   "id": "f8fc5819-90b5-46d8-ab87-a78a66cf62f4",
   "metadata": {},
   "outputs": [],
   "source": [
    "clist=[1,2,3,4,[5,6,[7,8]]]"
   ]
  },
  {
   "cell_type": "code",
   "execution_count": 5,
   "id": "d550b2d5-7f74-4578-ad64-59963dd4e72c",
   "metadata": {},
   "outputs": [
    {
     "data": {
      "text/plain": [
       "7"
      ]
     },
     "execution_count": 5,
     "metadata": {},
     "output_type": "execute_result"
    }
   ],
   "source": [
    "clist[4][2][0]"
   ]
  },
  {
   "cell_type": "code",
   "execution_count": 7,
   "id": "fe3d05aa-3cd0-41c7-a332-9fa732a61ec3",
   "metadata": {},
   "outputs": [
    {
     "data": {
      "text/plain": [
       "8"
      ]
     },
     "execution_count": 7,
     "metadata": {},
     "output_type": "execute_result"
    }
   ],
   "source": [
    "clist[4][2][1]"
   ]
  },
  {
   "cell_type": "code",
   "execution_count": 9,
   "id": "854bfbf5-d041-4fd9-ac18-9d12d5b638ec",
   "metadata": {},
   "outputs": [],
   "source": [
    "del clist[4][2][1]"
   ]
  },
  {
   "cell_type": "code",
   "execution_count": 11,
   "id": "30ea5e63-cf25-4dda-8b3b-47945890f17e",
   "metadata": {},
   "outputs": [
    {
     "data": {
      "text/plain": [
       "[1, 2, 3, 4, [5, 6, [7]]]"
      ]
     },
     "execution_count": 11,
     "metadata": {},
     "output_type": "execute_result"
    }
   ],
   "source": [
    "clist"
   ]
  },
  {
   "cell_type": "code",
   "execution_count": 13,
   "id": "6a7aee84-c90c-48c6-96eb-88eac8f51018",
   "metadata": {},
   "outputs": [],
   "source": [
    "clist[4][2].append(8)"
   ]
  },
  {
   "cell_type": "code",
   "execution_count": 15,
   "id": "1c439cf0-f1ee-48b8-8447-5a7566c4bbc3",
   "metadata": {},
   "outputs": [
    {
     "data": {
      "text/plain": [
       "[1, 2, 3, 4, [5, 6, [7, 8]]]"
      ]
     },
     "execution_count": 15,
     "metadata": {},
     "output_type": "execute_result"
    }
   ],
   "source": [
    "clist"
   ]
  },
  {
   "cell_type": "code",
   "execution_count": 17,
   "id": "a2a55955-1d37-44b8-8201-0019d110be2e",
   "metadata": {},
   "outputs": [
    {
     "data": {
      "text/plain": [
       "5"
      ]
     },
     "execution_count": 17,
     "metadata": {},
     "output_type": "execute_result"
    }
   ],
   "source": [
    "len(clist)"
   ]
  },
  {
   "cell_type": "code",
   "execution_count": 19,
   "id": "6c51ab92-a410-41f2-8a50-b422445fdbac",
   "metadata": {},
   "outputs": [
    {
     "name": "stdout",
     "output_type": "stream",
     "text": [
      "14, 26, 46, 74, 110, 154, 206, 266, 334, "
     ]
    }
   ],
   "source": [
    "y = 10\n",
    "for i in range(1,20):\n",
    "    if (i%2==0):\n",
    "       print( i**2+y, end=\", \") #i=i*2"
   ]
  },
  {
   "cell_type": "code",
   "execution_count": 21,
   "id": "612ee67e-a43c-40d5-882e-97ba03225250",
   "metadata": {},
   "outputs": [
    {
     "data": {
      "text/plain": [
       "[14, 26, 46, 74, 110, 154, 206, 266, 334]"
      ]
     },
     "execution_count": 21,
     "metadata": {},
     "output_type": "execute_result"
    }
   ],
   "source": [
    "[i**2+y for i in range(1,20) if (i%2==0)]"
   ]
  },
  {
   "cell_type": "code",
   "execution_count": 25,
   "id": "7e2ec1c0-7a78-4b36-91df-9feb5fc6dce5",
   "metadata": {},
   "outputs": [
    {
     "data": {
      "text/plain": [
       "[12.87, 9.9, 26.0, 20.0, 39.0, 30.0]"
      ]
     },
     "execution_count": 25,
     "metadata": {},
     "output_type": "execute_result"
    }
   ],
   "source": [
    "price = [99,199.99,299.99]\n",
    "tax = [.13, .10]\n",
    "[round(y * i,2) for i in price for y in tax]"
   ]
  },
  {
   "cell_type": "code",
   "execution_count": 27,
   "id": "2b5707cc-0e13-4286-96ba-95cc5358e2ec",
   "metadata": {},
   "outputs": [
    {
     "data": {
      "text/plain": [
       "[9, 18, 27, 36, 45]"
      ]
     },
     "execution_count": 27,
     "metadata": {},
     "output_type": "execute_result"
    }
   ],
   "source": [
    "a = [1,2,3,4,5]\n",
    "b = [10,20,30,40,50]\n",
    "[j - i for i, j in zip (a,b)]"
   ]
  },
  {
   "cell_type": "code",
   "execution_count": 29,
   "id": "2a0f6a5e-0872-40d9-9f64-66b020583c50",
   "metadata": {},
   "outputs": [
    {
     "data": {
      "text/plain": [
       "[(1, 10), (2, 20), (3, 30), (4, 40), (5, 50)]"
      ]
     },
     "execution_count": 29,
     "metadata": {},
     "output_type": "execute_result"
    }
   ],
   "source": [
    "[ (x,y) for x, y in zip(a,b)]"
   ]
  },
  {
   "cell_type": "code",
   "execution_count": 33,
   "id": "4ba02134-46a5-4f74-ae98-3cd7694df7b5",
   "metadata": {},
   "outputs": [
    {
     "name": "stdout",
     "output_type": "stream",
     "text": [
      "0 this\n",
      "1 is\n",
      "2 a\n",
      "3 line\n"
     ]
    }
   ],
   "source": [
    "list_of_str = 'this is a line'.split()\n",
    "for i,t in enumerate(list_of_str):\n",
    "    print (i,t)"
   ]
  },
  {
   "cell_type": "code",
   "execution_count": 37,
   "id": "475d1fd5-07ff-4329-8914-bcbe0981a9c6",
   "metadata": {},
   "outputs": [],
   "source": [
    "list_of_anything=['apples', 12, 34.99, True, 'oranges']"
   ]
  },
  {
   "cell_type": "code",
   "execution_count": 39,
   "id": "46c81ed5-9908-48cc-bdbd-60045403dea7",
   "metadata": {},
   "outputs": [
    {
     "data": {
      "text/plain": [
       "[str, int, float, bool, str]"
      ]
     },
     "execution_count": 39,
     "metadata": {},
     "output_type": "execute_result"
    }
   ],
   "source": [
    "[type(e) for e in list_of_anything]"
   ]
  },
  {
   "cell_type": "code",
   "execution_count": 41,
   "id": "ea7fb54c-665d-4a23-a64d-0e2be08760c6",
   "metadata": {},
   "outputs": [
    {
     "data": {
      "text/plain": [
       "['apples', 'oranges']"
      ]
     },
     "execution_count": 41,
     "metadata": {},
     "output_type": "execute_result"
    }
   ],
   "source": [
    "[e for e in list_of_anything if type(e)==str]"
   ]
  },
  {
   "cell_type": "code",
   "execution_count": 43,
   "id": "e0bf0b7d-dd42-46b9-973c-2305356c5a5e",
   "metadata": {},
   "outputs": [],
   "source": [
    "str_list = [str(e) for e in list_of_anything]"
   ]
  },
  {
   "cell_type": "code",
   "execution_count": 45,
   "id": "40215268-9fb0-4a2f-96e2-1b69f97c59be",
   "metadata": {},
   "outputs": [
    {
     "data": {
      "text/plain": [
       "['apples', '12', '34.99', 'True', 'oranges']"
      ]
     },
     "execution_count": 45,
     "metadata": {},
     "output_type": "execute_result"
    }
   ],
   "source": [
    "str_list"
   ]
  },
  {
   "cell_type": "code",
   "execution_count": 47,
   "id": "316d52d5-3631-42db-9ffd-cf76504117dd",
   "metadata": {},
   "outputs": [],
   "source": [
    "str_of_things = ','.join(str_list)"
   ]
  },
  {
   "cell_type": "code",
   "execution_count": 49,
   "id": "0fcf0a74-f802-4794-a033-bba8368b30a4",
   "metadata": {},
   "outputs": [
    {
     "data": {
      "text/plain": [
       "'apples,12,34.99,True,oranges'"
      ]
     },
     "execution_count": 49,
     "metadata": {},
     "output_type": "execute_result"
    }
   ],
   "source": [
    "str_of_things"
   ]
  },
  {
   "cell_type": "code",
   "execution_count": 51,
   "id": "6e69c72e-a686-4352-a4ab-5d2b8f8822c8",
   "metadata": {},
   "outputs": [],
   "source": [
    "new_list = str_of_things.split(',')"
   ]
  },
  {
   "cell_type": "code",
   "execution_count": 53,
   "id": "ef7b8313-c48f-4526-8b28-1db17be56b4c",
   "metadata": {},
   "outputs": [
    {
     "data": {
      "text/plain": [
       "['apples', '12', '34.99', 'True', 'oranges']"
      ]
     },
     "execution_count": 53,
     "metadata": {},
     "output_type": "execute_result"
    }
   ],
   "source": [
    "new_list"
   ]
  },
  {
   "cell_type": "code",
   "execution_count": null,
   "id": "7be9038c-c233-4273-ae71-afac6920898a",
   "metadata": {},
   "outputs": [],
   "source": []
  }
 ],
 "metadata": {
  "kernelspec": {
   "display_name": "Python 3 (ipykernel)",
   "language": "python",
   "name": "python3"
  },
  "language_info": {
   "codemirror_mode": {
    "name": "ipython",
    "version": 3
   },
   "file_extension": ".py",
   "mimetype": "text/x-python",
   "name": "python",
   "nbconvert_exporter": "python",
   "pygments_lexer": "ipython3",
   "version": "3.12.4"
  }
 },
 "nbformat": 4,
 "nbformat_minor": 5
}
