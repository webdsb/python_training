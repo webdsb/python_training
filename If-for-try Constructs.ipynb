{
 "cells": [
  {
   "cell_type": "code",
   "execution_count": 1,
   "id": "2f5f4a1b-a528-423a-a080-1fd260158683",
   "metadata": {},
   "outputs": [
    {
     "name": "stdout",
     "output_type": "stream",
     "text": [
      "0\n",
      "1\n",
      "2\n",
      "3\n",
      "4\n",
      "5\n",
      "6\n",
      "7\n",
      "8\n",
      "9\n"
     ]
    }
   ],
   "source": [
    "for i in range(10):\n",
    "    print(i)"
   ]
  },
  {
   "cell_type": "code",
   "execution_count": 3,
   "id": "1ddeaa0d-be27-4a9e-9ff2-3dc9baa7b51e",
   "metadata": {},
   "outputs": [
    {
     "name": "stdout",
     "output_type": "stream",
     "text": [
      "2\n",
      "4\n",
      "6\n",
      "8\n"
     ]
    }
   ],
   "source": [
    "for i in range(2,10, 2):\n",
    "    print(i)"
   ]
  },
  {
   "cell_type": "code",
   "execution_count": 5,
   "id": "207fc201-fc2c-4ddd-818b-792b20a62685",
   "metadata": {},
   "outputs": [
    {
     "name": "stdout",
     "output_type": "stream",
     "text": [
      "2, 4, 6, 8, "
     ]
    }
   ],
   "source": [
    "for i in range(2,10, 2):\n",
    "    print(i, end = \", \")"
   ]
  },
  {
   "cell_type": "code",
   "execution_count": 7,
   "id": "c8fc98ff-025f-4ad6-ab41-4b114a0b4239",
   "metadata": {},
   "outputs": [
    {
     "name": "stdout",
     "output_type": "stream",
     "text": [
      "R\n",
      "G\n",
      "Y\n",
      "R\n",
      "G\n",
      "Y\n",
      "R\n",
      "G\n",
      "Y\n"
     ]
    }
   ],
   "source": [
    "light = 'R'\n",
    "for i in range (9):\n",
    "    if light == 'R':\n",
    "        print('R')\n",
    "        light = 'G'\n",
    "    elif light == 'G':\n",
    "        print('G')\n",
    "        light = 'Y'\n",
    "    else:\n",
    "        print ('Y')\n",
    "        light='R'"
   ]
  },
  {
   "cell_type": "code",
   "execution_count": 9,
   "id": "470d4e80-1e28-4708-84c5-bed08017d6bf",
   "metadata": {},
   "outputs": [
    {
     "name": "stdout",
     "output_type": "stream",
     "text": [
      "Division Exception: division by zero\n",
      "Continuing...\n"
     ]
    }
   ],
   "source": [
    "try:\n",
    "    10000000/0\n",
    "except ZeroDivisionError as zde:\n",
    "    print(f'Division Exception: {zde}')\n",
    "except Exception as e:\n",
    "    print(f'Exception: {e}')\n",
    "else:\n",
    "    print ('There was no exception; all things normal')\n",
    "finally:\n",
    "    print ('Continuing...')"
   ]
  },
  {
   "cell_type": "code",
   "execution_count": 11,
   "id": "76f60e4e-e696-4b60-b6c4-468f5cdbeb0c",
   "metadata": {},
   "outputs": [
    {
     "ename": "AssertionError",
     "evalue": "Age must be positive number over 0",
     "output_type": "error",
     "traceback": [
      "\u001b[1;31m---------------------------------------------------------------------------\u001b[0m",
      "\u001b[1;31mAssertionError\u001b[0m                            Traceback (most recent call last)",
      "Cell \u001b[1;32mIn[11], line 2\u001b[0m\n\u001b[0;32m      1\u001b[0m age \u001b[38;5;241m=\u001b[39m \u001b[38;5;241m-\u001b[39m\u001b[38;5;241m1\u001b[39m\n\u001b[1;32m----> 2\u001b[0m \u001b[38;5;28;01massert\u001b[39;00m age \u001b[38;5;241m>\u001b[39m \u001b[38;5;241m0\u001b[39m, \u001b[38;5;124m'\u001b[39m\u001b[38;5;124mAge must be positive number over 0\u001b[39m\u001b[38;5;124m'\u001b[39m\n",
      "\u001b[1;31mAssertionError\u001b[0m: Age must be positive number over 0"
     ]
    }
   ],
   "source": [
    "age = -1\n",
    "assert age > 0, 'Age must be positive number over 0'"
   ]
  },
  {
   "cell_type": "code",
   "execution_count": 13,
   "id": "6fc89945-0d21-4462-8fd6-a0801b2b5733",
   "metadata": {},
   "outputs": [],
   "source": [
    "age = 1\n",
    "assert age > 0, 'Age must be positive number over 0'"
   ]
  },
  {
   "cell_type": "code",
   "execution_count": 17,
   "id": "7d066169-eeb0-492d-9211-e249d0cc0edc",
   "metadata": {},
   "outputs": [
    {
     "name": "stdout",
     "output_type": "stream",
     "text": [
      "\n",
      "Processing number: -2\n",
      "I do not see outside my scopes:  -2\n",
      "\n",
      "Processing number: -1\n",
      "I do not see outside my scopes:  -1\n",
      "\n",
      "Processing number: 0\n",
      "I do not see outside my scopes:  0\n",
      "\n",
      "Processing number: 1\n",
      "The number was  1\n",
      "\n",
      "Processing number: 2\n",
      "The number was  2\n",
      "\n",
      "Processing number: 3\n",
      "The number was  3\n",
      "\n",
      "Processing number: 4\n",
      "I do not see outside my scopes:  4\n"
     ]
    }
   ],
   "source": [
    "for x in range (-2,5,1):\n",
    "    print('\\nProcessing number:',x)\n",
    "    if (x < 1) or (x > 3):\n",
    "        print('I do not see outside my scopes: ', x)\n",
    "    elif x==1:\n",
    "        print ('The number was ', x)\n",
    "    elif x==2:\n",
    "        print ('The number was ', x)\n",
    "    else:\n",
    "        print ('The number was ', x)"
   ]
  },
  {
   "cell_type": "code",
   "execution_count": 19,
   "id": "02e48cf1-ba82-4a06-8b70-50927e25e633",
   "metadata": {},
   "outputs": [
    {
     "name": "stdout",
     "output_type": "stream",
     "text": [
      "\n",
      "Party of:  0\n",
      "Exception:  integer division or modulo by zero\n",
      "Continuing...\n",
      "\n",
      "Party of:  1\n",
      "Everyone gets 6\n",
      "Continuing...\n",
      "\n",
      "Party of:  2\n",
      "Everyone gets 3\n",
      "Continuing...\n",
      "\n",
      "Party of:  3\n",
      "Everyone gets 2\n",
      "Continuing...\n",
      "\n",
      "Party of:  4\n",
      "Exception:  The max party size of 3 exceeded!\n",
      "Continuing...\n",
      "\n",
      "Party of:  5\n",
      "Exception:  The max party size of 3 exceeded!\n",
      "Continuing...\n"
     ]
    }
   ],
   "source": [
    "pizza_pieces = 6\n",
    "max_party_size = 3\n",
    "peoples = 6\n",
    "\n",
    "for people in range(peoples):\n",
    "    print('\\nParty of: ', people)\n",
    "    try:\n",
    "        if people > max_party_size:\n",
    "            raise Exception (f'The max party size of {max_party_size} exceeded!')\n",
    "        pieces_per_person = pizza_pieces // people #division\n",
    "    except Exception as e:\n",
    "        print ('Exception: ', e)\n",
    "    else: \n",
    "        print (f'Everyone gets {pieces_per_person}')\n",
    "    finally:\n",
    "        print ('Continuing...')"
   ]
  },
  {
   "cell_type": "code",
   "execution_count": 21,
   "id": "034b3953-5038-4b89-8b51-13df6ebd8430",
   "metadata": {},
   "outputs": [
    {
     "name": "stdout",
     "output_type": "stream",
     "text": [
      "\n",
      "Party of:  0\n",
      "Exception integer division or modulo by zero of type <class 'ZeroDivisionError'>\n",
      "Continuing...\n",
      "\n",
      "Party of:  1\n",
      "Everyone gets 6\n",
      "Continuing...\n",
      "\n",
      "Party of:  2\n",
      "Everyone gets 3\n",
      "Continuing...\n",
      "\n",
      "Party of:  3\n",
      "Everyone gets 2\n",
      "Continuing...\n",
      "\n",
      "Party of:  4\n",
      "Exception The max party size of 3 exceeded! of type <class 'AssertionError'>\n",
      "Continuing...\n",
      "\n",
      "Party of:  5\n",
      "Exception The max party size of 3 exceeded! of type <class 'AssertionError'>\n",
      "Continuing...\n"
     ]
    }
   ],
   "source": [
    "pizza_pieces = 6\n",
    "max_party_size = 3\n",
    "peoples = 6\n",
    "\n",
    "for people in range(peoples):\n",
    "    print('\\nParty of: ', people)\n",
    "    try:\n",
    "        #if people > max_party_size:\n",
    "         #   raise Exception (f'The max party size of {max_party_size} exceeded!')\n",
    "        assert people <= max_party_size, f'The max party size of {max_party_size} exceeded!'\n",
    "        pieces_per_person = pizza_pieces // people #division\n",
    "    except Exception as e:\n",
    "        #print ('Exception: ', e)\n",
    "        print (f'Exception {e} of type {type(e)}')\n",
    "    else: \n",
    "        print (f'Everyone gets {pieces_per_person}')\n",
    "    finally:\n",
    "        print ('Continuing...')"
   ]
  },
  {
   "cell_type": "code",
   "execution_count": null,
   "id": "ef0bbfd0-3c06-4019-a651-ebd27c75d816",
   "metadata": {},
   "outputs": [],
   "source": []
  }
 ],
 "metadata": {
  "kernelspec": {
   "display_name": "Python 3 (ipykernel)",
   "language": "python",
   "name": "python3"
  },
  "language_info": {
   "codemirror_mode": {
    "name": "ipython",
    "version": 3
   },
   "file_extension": ".py",
   "mimetype": "text/x-python",
   "name": "python",
   "nbconvert_exporter": "python",
   "pygments_lexer": "ipython3",
   "version": "3.12.4"
  }
 },
 "nbformat": 4,
 "nbformat_minor": 5
}
