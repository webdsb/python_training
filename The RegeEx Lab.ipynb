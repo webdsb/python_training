{
 "cells": [
  {
   "cell_type": "code",
   "execution_count": 1,
   "id": "8e03da2a-d4d4-4a15-8d35-ca21356cbae7",
   "metadata": {},
   "outputs": [],
   "source": [
    "import re\n",
    "import random"
   ]
  },
  {
   "cell_type": "code",
   "execution_count": 5,
   "id": "b4e6aae9-ef96-4790-909d-6adc18b30583",
   "metadata": {},
   "outputs": [
    {
     "data": {
      "text/plain": [
       "'Lorem ipsum dolor sit amet, consectetur adipiscing elit. Etiam aliquet commodo neque, ut posuere eros. Vestibulum dapibus vehicula est vitae interdum. Integer luctus dictum blandit. Nunc dictum enim in convallis dapibus. Nulla mattis aliquet turpis eget ornare. Nulla porttitor ipsum eget sapien auctor convallis. Quisque vel ante consectetur, malesuada eros quis, egestas felis. Aliquam rutrum sagittis vehicula. Sed ut magna eu justo placerat vestibulum ut ut quam. Duis eget urna nisl. Vestibulum pharetra accumsan blandit. Nunc elementum orci sit amet magna pulvinar gravida. Nulla sed luctus elit. Praesent placerat, arcu vel ornare porttitor, justo nunc sollicitudin lacus, id fringilla nisi ipsum in justo. In iaculis nulla enim, in fermentum felis euismod eget.\\nProin sagittis, dui id ornare molestie, libero ante posuere tortor, finibus tempus orci magna at lectus. Curabitur ante magna, vulputate ut nunc at, tempus euismod mi. Sed rutrum mi eu mi molestie dapibus. Nam interdum nunc non dui semper, id pretium purus vulputate. Duis laoreet justo nec tellus malesuada, in ultricies erat ultricies. Duis eu ex eu neque vulputate pellentesque. Maecenas dapibus lacus ut pharetra bibendum. In ex nibh, semper feugiat nisi eget, egestas rutrum mauris. Donec ut ligula et turpis sagittis bibendum.\\nCurabitur posuere pellentesque efficitur. In hac habitasse platea dictumst. Aenean imperdiet velit vitae sapien faucibus, ac hendrerit nunc porttitor. Donec non ornare lectus. Etiam eu semper enim. Integer molestie augue vitae purus consequat facilisis. Sed efficitur sem odio, luctus mollis elit egestas sit amet. Cras finibus, neque ut condimentum efficitur, massa mauris pharetra nulla, sit amet vulputate tortor ante non nunc. Phasellus eros tortor, condimentum at efficitur ac, cursus sit amet ipsum. Curabitur pretium congue sem vel fermentum.\\nEtiam sodales mi a velit pulvinar, et sagittis dui dignissim. Curabitur tincidunt rhoncus justo, a auctor ipsum vestibulum quis. Proin placerat metus eu nibh tristique, vel condimentum enim accumsan. Pellentesque habitant morbi tristique senectus et netus et malesuada fames ac turpis egestas. Donec non convallis tortor. Mauris quis ultricies neque. Aliquam erat volutpat.\\nMorbi vestibulum varius risus, et elementum tellus egestas quis. Suspendisse aliquet cursus ipsum id finibus. Sed eros diam, ullamcorper vitae convallis sed, ullamcorper eget mauris. Aenean sit amet volutpat tellus. Duis eu pellentesque quam. Ut ac aliquet mauris. Cras nec nisl ut mi euismod ullamcorper. Ut magna neque, ullamcorper sit amet maximus quis, tristique consectetur nulla. Nullam a leo in lectus tincidunt consectetur eu non quam. Cras lacinia, ipsum sed semper ultrices, sem nisl luctus nisi, eu interdum quam nisi id turpis. Nulla ultricies arcu vitae eros dictum, eget tempor purus ultrices. Nam posuere mi quis ullamcorper ornare. Donec sed enim sed dolor viverra gravida ac a mi. Morbi luctus ipsum sodales blandit finibus.\\nNam aliquam eu augue quis euismod. Maecenas dignissim interdum lectus, sit amet rutrum tortor. Phasellus fermentum ante tellus, sit amet dignissim mauris consequat sed. Nunc augue quam, vestibulum id diam in, hendrerit pharetra sem. Maecenas quis dignissim sapien. Proin hendrerit orci vitae tortor molestie, at tempor dui semper. Ut eget odio sed augue vestibulum ultrices sit amet sit amet dolor.'"
      ]
     },
     "execution_count": 5,
     "metadata": {},
     "output_type": "execute_result"
    }
   ],
   "source": [
    "textFile = 'C:/lorem_ipsum.txt'\n",
    "text= None\n",
    "with open (textFile, 'r') as fin:\n",
    "    text = fin.read()\n",
    "\n",
    "text"
   ]
  },
  {
   "cell_type": "code",
   "execution_count": 7,
   "id": "d2aedd70-2fee-417c-a056-84e192ff5e06",
   "metadata": {},
   "outputs": [
    {
     "data": {
      "text/plain": [
       "'Lorem ipsum dolor sit amet, consectetur adipiscing elit. Etiam aliquet commodo neque, ut posuere eros. Vestibulum dapibus vehicula est vitae interdum. Integer luctus dictum blandit. Nunc dictum enim in convallis dapibus. Nulla mattis aliquet turpis eget ornare. Nulla porttitor ipsum eget sapien auctor convallis. Quisque vel ante consectetur, malesuada eros quis, egestas felis. Aliquam rutrum sagittis vehicula. Sed ut magna eu justo placerat vestibulum ut ut quam. Duis eget urna nisl. Vestibulum pharetra accumsan blandit. Nunc elementum orci sit amet magna pulvinar gravida. Nulla sed luctus elit. Praesent placerat, arcu vel ornare porttitor, justo nunc sollicitudin lacus, id fringilla nisi ipsum in justo. In iaculis nulla enim, in fermentum felis euismod eget. Frankie Proin sagittis, dui id ornare molestie, libero ante posuere tortor, finibus tempus orci magna at lectus. Curabitur ante magna, vulputate ut nunc at, tempus euismod mi. Sed rutrum mi eu mi molestie dapibus. Nam interdum nunc non dui semper, id pretium purus vulputate. Duis laoreet justo nec tellus malesuada, in ultricies erat ultricies. Duis eu ex eu neque vulputate pellentesque. Maecenas dapibus lacus ut pharetra bibendum. In ex nibh, semper feugiat nisi eget, egestas rutrum mauris. Donec ut ligula et turpis sagittis bibendum. Frankie Curabitur posuere pellentesque efficitur. In hac habitasse platea dictumst. Aenean imperdiet velit vitae sapien faucibus, ac hendrerit nunc porttitor. Donec non ornare lectus. Etiam eu semper enim. Integer molestie augue vitae purus consequat facilisis. Sed efficitur sem odio, luctus mollis elit egestas sit amet. Cras finibus, neque ut condimentum efficitur, massa mauris pharetra nulla, sit amet vulputate tortor ante non nunc. Phasellus eros tortor, condimentum at efficitur ac, cursus sit amet ipsum. Curabitur pretium congue sem vel fermentum. Frankie Etiam sodales mi a velit pulvinar, et sagittis dui dignissim. Curabitur tincidunt rhoncus justo, a auctor ipsum vestibulum quis. Proin placerat metus eu nibh tristique, vel condimentum enim accumsan. Pellentesque habitant morbi tristique senectus et netus et malesuada fames ac turpis egestas. Donec non convallis tortor. Mauris quis ultricies neque. Aliquam erat volutpat. Frankie Morbi vestibulum varius risus, et elementum tellus egestas quis. Suspendisse aliquet cursus ipsum id finibus. Sed eros diam, ullamcorper vitae convallis sed, ullamcorper eget mauris. Aenean sit amet volutpat tellus. Duis eu pellentesque quam. Ut ac aliquet mauris. Cras nec nisl ut mi euismod ullamcorper. Ut magna neque, ullamcorper sit amet maximus quis, tristique consectetur nulla. Nullam a leo in lectus tincidunt consectetur eu non quam. Cras lacinia, ipsum sed semper ultrices, sem nisl luctus nisi, eu interdum quam nisi id turpis. Nulla ultricies arcu vitae eros dictum, eget tempor purus ultrices. Nam posuere mi quis ullamcorper ornare. Donec sed enim sed dolor viverra gravida ac a mi. Morbi luctus ipsum sodales blandit finibus. Frankie Nam aliquam eu augue quis euismod. Maecenas dignissim interdum lectus, sit amet rutrum tortor. Phasellus fermentum ante tellus, sit amet dignissim mauris consequat sed. Nunc augue quam, vestibulum id diam in, hendrerit pharetra sem. Maecenas quis dignissim sapien. Proin hendrerit orci vitae tortor molestie, at tempor dui semper. Ut eget odio sed augue vestibulum ultrices sit amet sit amet dolor.'"
      ]
     },
     "execution_count": 7,
     "metadata": {},
     "output_type": "execute_result"
    }
   ],
   "source": [
    "reN = r'\\n'\n",
    "target = ' Frankie '\n",
    "textWithoutN = re.sub(reN, target, text); textWithoutN"
   ]
  },
  {
   "cell_type": "code",
   "execution_count": 11,
   "id": "51b75d32-e453-477d-a0f7-95cd1fef9e50",
   "metadata": {},
   "outputs": [],
   "source": [
    "numPhones = 50\n",
    "phonesList = []\n",
    "random.seed(905)\n",
    "for p in range(numPhones):\n",
    "    phoneNumber = f'{random.randint(111,999)}-{random.randint(100,999)}-{random.randint(1000,9999)}' \n",
    "    phonesList.append(phoneNumber)\n"
   ]
  },
  {
   "cell_type": "code",
   "execution_count": 23,
   "id": "40044772-be6e-499f-a252-6466143d6300",
   "metadata": {},
   "outputs": [],
   "source": [
    "wordList = [t.strip('.,?!') for t in textWithoutN.split(' ')]"
   ]
  },
  {
   "cell_type": "code",
   "execution_count": 29,
   "id": "d06bb15b-d7ec-4ec5-bd38-e1a8a2363a73",
   "metadata": {},
   "outputs": [],
   "source": [
    "random.seed(7)\n",
    "lowLen = len(wordList)\n",
    "for p in phonesList:\n",
    "    wordList.insert(random.randint(0, lowLen-1),p)"
   ]
  },
  {
   "cell_type": "code",
   "execution_count": 31,
   "id": "fb1fd27d-a810-405b-859e-8724564fcd83",
   "metadata": {},
   "outputs": [
    {
     "data": {
      "text/plain": [
       "'Lorem ipsum dolor sit amet consectetur adipiscing elit Etiam aliquet commodo neque ut posuere eros Vestibulum dapibus vehicula est 672-685-3622 vitae interdum Integer 547-907-6458 luctus dictum 346-623-6265 518-199-2800 blandit Nunc dictum enim 365-471-8086 366-630-6669 751-934-2130 in convallis dapibus Nulla 239-639-7716 mattis aliquet turpis eget 779-636-8434 ornare Nulla porttitor ipsum 467-622-2539 219-192-6635 eget sapien auctor convallis Quisque vel 362-937-3202 ante consectetur malesuada eros quis egestas felis Aliquam 526-464-6244 rutrum 853-188-8770 sagittis vehicula Sed ut 414-456-2700 magna eu justo placerat vestibulum ut ut quam Duis eget urna nisl Vestibulum pharetra accumsan blandit Nunc elementum 744-123-3232 orci sit amet magna pulvinar gravida Nulla sed luctus elit Praesent placerat arcu vel ornare porttitor justo nunc sollicitudin lacus id fringilla nisi 243-733-1276 ipsum in justo 230-499-6265 In 741-717-5742 iaculis nulla enim in fermentum felis euismod eget Frankie Proin 896-118-2794 sagittis dui id ornare molestie libero ante posuere tortor finibus tempus orci magna at lectus 232-486-3781 Curabitur ante magna vulputate ut nunc at tempus euismod mi Sed rutrum mi eu mi molestie dapibus Nam interdum nunc non dui semper id pretium purus vulputate Duis laoreet justo nec tellus malesuada in ultricies erat 811-454-6685 ultricies Duis eu ex eu neque vulputate pellentesque Maecenas dapibus lacus ut pharetra bibendum In ex nibh 154-407-5099 semper feugiat nisi eget 869-117-4397 egestas rutrum mauris Donec ut 317-919-1965 ligula et turpis sagittis bibendum Frankie Curabitur posuere pellentesque 508-242-1657 efficitur In hac 578-873-4228 750-987-3157 habitasse platea dictumst Aenean imperdiet velit vitae sapien 848-943-2481 faucibus ac hendrerit nunc porttitor Donec non ornare lectus Etiam eu semper enim Integer molestie augue vitae purus consequat facilisis Sed efficitur sem odio luctus mollis elit egestas sit amet Cras finibus neque ut condimentum efficitur 856-332-9747 massa mauris pharetra nulla 627-775-7998 sit amet vulputate tortor ante non nunc Phasellus 274-572-4152 eros tortor condimentum at efficitur ac 888-958-8715 cursus sit amet ipsum 227-848-6617 681-222-2020 Curabitur 453-721-3060 pretium congue sem 221-997-8859 vel 649-598-4649 fermentum Frankie Etiam sodales mi a velit pulvinar et sagittis dui dignissim Curabitur tincidunt rhoncus justo 536-866-2848 a auctor ipsum vestibulum quis Proin 408-809-6016 placerat 279-261-5039 metus eu nibh tristique vel condimentum enim accumsan Pellentesque habitant morbi tristique senectus et netus et malesuada fames ac turpis egestas Donec non convallis tortor Mauris quis ultricies neque Aliquam erat volutpat Frankie 640-500-6669 Morbi vestibulum varius risus et elementum tellus egestas quis Suspendisse aliquet cursus ipsum id finibus Sed eros diam ullamcorper vitae convallis sed ullamcorper eget mauris Aenean sit amet volutpat tellus Duis eu pellentesque quam Ut ac aliquet mauris Cras nec nisl ut mi euismod ullamcorper Ut magna neque ullamcorper sit amet maximus quis tristique consectetur nulla Nullam a leo in lectus tincidunt consectetur eu non quam Cras lacinia ipsum sed 744-857-2290 semper 360-124-5329 ultrices sem nisl luctus nisi eu interdum quam nisi id turpis Nulla ultricies 898-222-1572 arcu vitae eros dictum eget tempor purus ultrices Nam posuere mi quis ullamcorper ornare Donec sed enim sed dolor viverra gravida ac a mi Morbi luctus ipsum sodales blandit finibus Frankie Nam aliquam eu augue quis euismod Maecenas dignissim 941-423-5593 529-760-4980 interdum lectus sit amet 822-767-6047 rutrum tortor Phasellus 207-631-6477 fermentum ante tellus sit amet dignissim mauris consequat sed Nunc augue quam vestibulum id diam in hendrerit pharetra sem Maecenas quis dignissim sapien Proin 968-651-8890 hendrerit orci vitae tortor molestie at tempor dui semper Ut eget odio sed augue vestibulum ultrices sit amet sit amet dolor'"
      ]
     },
     "execution_count": 31,
     "metadata": {},
     "output_type": "execute_result"
    }
   ],
   "source": [
    "textToSearchForPhones = \" \".join(wordList);\n",
    "textToSearchForPhones"
   ]
  },
  {
   "cell_type": "code",
   "execution_count": 35,
   "id": "8cb4997b-7109-42f4-aa86-dbf9b5fe894a",
   "metadata": {},
   "outputs": [
    {
     "name": "stderr",
     "output_type": "stream",
     "text": [
      "<>:2: SyntaxWarning: invalid escape sequence '\\S'\n",
      "<>:2: SyntaxWarning: invalid escape sequence '\\s'\n",
      "<>:2: SyntaxWarning: invalid escape sequence '\\S'\n",
      "<>:2: SyntaxWarning: invalid escape sequence '\\s'\n",
      "C:\\Users\\dsbla\\AppData\\Local\\Temp\\ipykernel_29996\\292816946.py:2: SyntaxWarning: invalid escape sequence '\\S'\n",
      "  targetWithPhoneRe = f'\\S+\\s+\\S+\\s+{target}\\s+\\S+\\s+\\S+'\n",
      "C:\\Users\\dsbla\\AppData\\Local\\Temp\\ipykernel_29996\\292816946.py:2: SyntaxWarning: invalid escape sequence '\\s'\n",
      "  targetWithPhoneRe = f'\\S+\\s+\\S+\\s+{target}\\s+\\S+\\s+\\S+'\n"
     ]
    },
    {
     "data": {
      "text/plain": [
       "['euismod eget Frankie Proin 896-118-2794',\n",
       " 'sagittis bibendum Frankie Curabitur posuere',\n",
       " '649-598-4649 fermentum Frankie Etiam sodales',\n",
       " 'erat volutpat Frankie 640-500-6669 Morbi',\n",
       " 'blandit finibus Frankie Nam aliquam']"
      ]
     },
     "execution_count": 35,
     "metadata": {},
     "output_type": "execute_result"
    }
   ],
   "source": [
    "target = target.strip()\n",
    "targetWithPhoneRe = f'\\S+\\s+\\S+\\s+{target}\\s+\\S+\\s+\\S+'\n",
    "targetPhoneList = re.findall(targetWithPhoneRe, textToSearchForPhones); targetPhoneList"
   ]
  },
  {
   "cell_type": "code",
   "execution_count": null,
   "id": "ca0ea831-9949-4040-9312-17b191a564da",
   "metadata": {},
   "outputs": [],
   "source": []
  }
 ],
 "metadata": {
  "kernelspec": {
   "display_name": "Python 3 (ipykernel)",
   "language": "python",
   "name": "python3"
  },
  "language_info": {
   "codemirror_mode": {
    "name": "ipython",
    "version": 3
   },
   "file_extension": ".py",
   "mimetype": "text/x-python",
   "name": "python",
   "nbconvert_exporter": "python",
   "pygments_lexer": "ipython3",
   "version": "3.12.4"
  }
 },
 "nbformat": 4,
 "nbformat_minor": 5
}
