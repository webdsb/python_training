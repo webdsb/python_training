{
 "cells": [
  {
   "cell_type": "code",
   "execution_count": 7,
   "id": "3281937f-bc1e-4b45-a06f-5b8bafb33bac",
   "metadata": {},
   "outputs": [],
   "source": [
    "e = []\n",
    "def squares(*args):\n",
    "    for c in args:\n",
    "        e.append(c * c)\n",
    "    print(e)"
   ]
  },
  {
   "cell_type": "code",
   "execution_count": 9,
   "id": "2a75e153-6c35-41e6-959c-9c7d87e82804",
   "metadata": {},
   "outputs": [
    {
     "name": "stdout",
     "output_type": "stream",
     "text": [
      "[4, 9]\n"
     ]
    }
   ],
   "source": [
    "squares(2,3)"
   ]
  },
  {
   "cell_type": "code",
   "execution_count": 11,
   "id": "78a5b940-1b62-40c2-809b-874ae580569d",
   "metadata": {},
   "outputs": [
    {
     "data": {
      "text/plain": [
       "[4, 9]"
      ]
     },
     "execution_count": 11,
     "metadata": {},
     "output_type": "execute_result"
    }
   ],
   "source": [
    "args = [2,3]\n",
    "[c * c for c in args]"
   ]
  },
  {
   "cell_type": "code",
   "execution_count": 13,
   "id": "460a93e9-52f4-4ee1-a51e-b6bbb9e2f953",
   "metadata": {},
   "outputs": [
    {
     "data": {
      "text/plain": [
       "[4, 9]"
      ]
     },
     "execution_count": 13,
     "metadata": {},
     "output_type": "execute_result"
    }
   ],
   "source": [
    "list(map(lambda c : c*c, (2,3)))"
   ]
  },
  {
   "cell_type": "code",
   "execution_count": 15,
   "id": "c88cf117-bb08-42d9-80ab-276ef5cf0ba0",
   "metadata": {},
   "outputs": [],
   "source": [
    "dataModel = [1,2,3,4,5,6]"
   ]
  },
  {
   "cell_type": "code",
   "execution_count": 17,
   "id": "7df643eb-ad67-4bef-8911-fb5625be7401",
   "metadata": {},
   "outputs": [
    {
     "data": {
      "text/plain": [
       "[2, 4, 6]"
      ]
     },
     "execution_count": 17,
     "metadata": {},
     "output_type": "execute_result"
    }
   ],
   "source": [
    "filter_result_lc = [i for i in dataModel if i%2 ==0]; filter_result_lc"
   ]
  },
  {
   "cell_type": "code",
   "execution_count": 19,
   "id": "129e22e9-1c79-4a1a-b6cf-8cf4a0625c0c",
   "metadata": {},
   "outputs": [
    {
     "data": {
      "text/plain": [
       "[2, 4, 6]"
      ]
     },
     "execution_count": 19,
     "metadata": {},
     "output_type": "execute_result"
    }
   ],
   "source": [
    "list (filter(lambda x: x%2==0, dataModel))"
   ]
  },
  {
   "cell_type": "code",
   "execution_count": 21,
   "id": "82696dc0-1029-40b9-babb-b294068bdfc3",
   "metadata": {},
   "outputs": [
    {
     "data": {
      "text/plain": [
       "21"
      ]
     },
     "execution_count": 21,
     "metadata": {},
     "output_type": "execute_result"
    }
   ],
   "source": [
    "from functools import reduce\n",
    "reduce(lambda x,y: x+y, dataModel)"
   ]
  },
  {
   "cell_type": "code",
   "execution_count": 23,
   "id": "dfafd5a2-f592-42ad-bb16-09bcb9769f30",
   "metadata": {},
   "outputs": [
    {
     "data": {
      "text/plain": [
       "6"
      ]
     },
     "execution_count": 23,
     "metadata": {},
     "output_type": "execute_result"
    }
   ],
   "source": [
    "reduce (lambda x,y:x if x>y else y, dataModel)"
   ]
  },
  {
   "cell_type": "code",
   "execution_count": 25,
   "id": "7319c77c-697a-4984-b9b5-ae7f50ac85ae",
   "metadata": {},
   "outputs": [],
   "source": [
    "words = \"A quick brownish fox jumps on the lazy dog\".split()"
   ]
  },
  {
   "cell_type": "code",
   "execution_count": 27,
   "id": "411487a8-fee3-4152-b04d-5a71cdf65726",
   "metadata": {},
   "outputs": [
    {
     "data": {
      "text/plain": [
       "['A', 'brownish', 'dog', 'fox', 'jumps', 'lazy', 'on', 'quick', 'the']"
      ]
     },
     "execution_count": 27,
     "metadata": {},
     "output_type": "execute_result"
    }
   ],
   "source": [
    "sorted(words) # sorts but doesn't affect the source list"
   ]
  },
  {
   "cell_type": "code",
   "execution_count": null,
   "id": "0aa0b3b3-c008-40fb-b126-df3a6fc2205b",
   "metadata": {},
   "outputs": [],
   "source": []
  }
 ],
 "metadata": {
  "kernelspec": {
   "display_name": "Python 3 (ipykernel)",
   "language": "python",
   "name": "python3"
  },
  "language_info": {
   "codemirror_mode": {
    "name": "ipython",
    "version": 3
   },
   "file_extension": ".py",
   "mimetype": "text/x-python",
   "name": "python",
   "nbconvert_exporter": "python",
   "pygments_lexer": "ipython3",
   "version": "3.12.4"
  }
 },
 "nbformat": 4,
 "nbformat_minor": 5
}
