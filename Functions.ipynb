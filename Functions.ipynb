{
 "cells": [
  {
   "cell_type": "code",
   "execution_count": 1,
   "id": "5f16e287-896b-49ce-94ff-088c41ee4f70",
   "metadata": {},
   "outputs": [],
   "source": [
    "def my_func():\n",
    "    a=5\n",
    "    b=a * a\n",
    "    print(b)"
   ]
  },
  {
   "cell_type": "code",
   "execution_count": 3,
   "id": "6e6ea5ab-e635-4d96-902e-bb9742321896",
   "metadata": {},
   "outputs": [
    {
     "name": "stdout",
     "output_type": "stream",
     "text": [
      "25\n"
     ]
    }
   ],
   "source": [
    "my_func()"
   ]
  },
  {
   "cell_type": "code",
   "execution_count": 5,
   "id": "3b8e3a4e-9331-4976-a17a-47c92a684d2a",
   "metadata": {},
   "outputs": [],
   "source": [
    "def my_func(a):\n",
    "    b=a*a\n",
    "    print(b)"
   ]
  },
  {
   "cell_type": "code",
   "execution_count": 7,
   "id": "6fa0b2a5-63f2-4895-99fe-c0ab64fd2ecf",
   "metadata": {},
   "outputs": [
    {
     "name": "stdout",
     "output_type": "stream",
     "text": [
      "25\n"
     ]
    }
   ],
   "source": [
    "my_func(5)"
   ]
  },
  {
   "cell_type": "code",
   "execution_count": 9,
   "id": "97f9eb65-cc07-48dc-b773-b61526622eb2",
   "metadata": {},
   "outputs": [],
   "source": [
    "def my_func2(a):\n",
    "    b = a + a\n",
    "    return b"
   ]
  },
  {
   "cell_type": "code",
   "execution_count": 11,
   "id": "0bcd9237-39b7-4ddc-9bb7-33deb220686b",
   "metadata": {},
   "outputs": [
    {
     "data": {
      "text/plain": [
       "10"
      ]
     },
     "execution_count": 11,
     "metadata": {},
     "output_type": "execute_result"
    }
   ],
   "source": [
    "my_func2(5)"
   ]
  },
  {
   "cell_type": "code",
   "execution_count": 13,
   "id": "83384b05-0f63-436c-97c0-c1473cbe964d",
   "metadata": {},
   "outputs": [
    {
     "data": {
      "text/plain": [
       "10"
      ]
     },
     "execution_count": 13,
     "metadata": {},
     "output_type": "execute_result"
    }
   ],
   "source": [
    "c = my_func2(5); c"
   ]
  },
  {
   "cell_type": "code",
   "execution_count": 15,
   "id": "d2e8c327-c4c2-4cb4-b33c-fd04672272e6",
   "metadata": {},
   "outputs": [],
   "source": [
    "def my_func3(a, x='somem default value', z='default'):\n",
    "    print (x)"
   ]
  },
  {
   "cell_type": "code",
   "execution_count": 17,
   "id": "18043793-f215-46b5-99ec-a406139d0f7d",
   "metadata": {},
   "outputs": [
    {
     "name": "stdout",
     "output_type": "stream",
     "text": [
      "somem default value\n"
     ]
    }
   ],
   "source": [
    "my_func3(4)"
   ]
  },
  {
   "cell_type": "code",
   "execution_count": 19,
   "id": "6ee348ea-ccd0-407a-9741-955209b5c780",
   "metadata": {},
   "outputs": [
    {
     "name": "stdout",
     "output_type": "stream",
     "text": [
      "Test\n"
     ]
    }
   ],
   "source": [
    "my_func3(4,'Test')"
   ]
  },
  {
   "cell_type": "code",
   "execution_count": 29,
   "id": "4e53b905-3659-4852-940b-f7a89c7ec912",
   "metadata": {},
   "outputs": [],
   "source": [
    "def sales_report4(**kw): #Keyword params\n",
    "    year = kw['year']\n",
    "    revenue = kw['revenue']\n",
    "    channel = kw.get('channel', \"'retail'\")\n",
    "    print (year, revenue, channel)\n",
    "    return f'The report for {channel} / {year} published'"
   ]
  },
  {
   "cell_type": "code",
   "execution_count": 31,
   "id": "13685c27-6d80-4c13-a1c0-837cdc4212e0",
   "metadata": {},
   "outputs": [
    {
     "name": "stdout",
     "output_type": "stream",
     "text": [
      "2024 0.1 'online'\n"
     ]
    },
    {
     "data": {
      "text/plain": [
       "\"The report for 'online' / 2024 published\""
      ]
     },
     "execution_count": 31,
     "metadata": {},
     "output_type": "execute_result"
    }
   ],
   "source": [
    "sales_report4(revenue=0.1, year=2024,channel=\"'online'\")"
   ]
  },
  {
   "cell_type": "code",
   "execution_count": 33,
   "id": "6e059fc7-7195-4d04-a373-aefaac007b85",
   "metadata": {},
   "outputs": [
    {
     "name": "stdout",
     "output_type": "stream",
     "text": [
      "2024 0.1 'retail'\n"
     ]
    },
    {
     "data": {
      "text/plain": [
       "\"The report for 'retail' / 2024 published\""
      ]
     },
     "execution_count": 33,
     "metadata": {},
     "output_type": "execute_result"
    }
   ],
   "source": [
    "sales_report4(revenue=0.1, year=2024)"
   ]
  },
  {
   "cell_type": "code",
   "execution_count": 35,
   "id": "1a1fe8e1-1b3a-4258-8792-17f89037631a",
   "metadata": {},
   "outputs": [],
   "source": [
    "def sales_report4(**kw): #Keyword params\n",
    "    year = kw['year']\n",
    "    revenue = kw['revenue']\n",
    "    channel = kw.get('channel', \"'retail'\")\n",
    "    print (year, revenue, channel)\n",
    "    return (year, revenue, channel)"
   ]
  },
  {
   "cell_type": "code",
   "execution_count": 37,
   "id": "4cac2839-d7b8-40f2-96d9-2f8897cbfc06",
   "metadata": {},
   "outputs": [
    {
     "name": "stdout",
     "output_type": "stream",
     "text": [
      "2023 0.1 'Fax'\n"
     ]
    },
    {
     "data": {
      "text/plain": [
       "\"'Fax'\""
      ]
     },
     "execution_count": 37,
     "metadata": {},
     "output_type": "execute_result"
    }
   ],
   "source": [
    "year, revenue, channel = sales_report4(revenue=0.1, year=2023, channel=\"'Fax'\"); channel"
   ]
  },
  {
   "cell_type": "code",
   "execution_count": 39,
   "id": "1d5dbf4c-ff1a-4ab6-bf6b-c6b5716bea42",
   "metadata": {},
   "outputs": [
    {
     "data": {
      "text/plain": [
       "120"
      ]
     },
     "execution_count": 39,
     "metadata": {},
     "output_type": "execute_result"
    }
   ],
   "source": [
    "#recursion\n",
    "def fact(n):\n",
    "    if n==1:\n",
    "        return 1\n",
    "    return n * fact(n-1)\n",
    "\n",
    "fact(5)"
   ]
  },
  {
   "cell_type": "code",
   "execution_count": null,
   "id": "39ad5ca3-f768-402a-af35-10d59a690f04",
   "metadata": {},
   "outputs": [],
   "source": []
  }
 ],
 "metadata": {
  "kernelspec": {
   "display_name": "Python 3 (ipykernel)",
   "language": "python",
   "name": "python3"
  },
  "language_info": {
   "codemirror_mode": {
    "name": "ipython",
    "version": 3
   },
   "file_extension": ".py",
   "mimetype": "text/x-python",
   "name": "python",
   "nbconvert_exporter": "python",
   "pygments_lexer": "ipython3",
   "version": "3.12.4"
  }
 },
 "nbformat": 4,
 "nbformat_minor": 5
}
