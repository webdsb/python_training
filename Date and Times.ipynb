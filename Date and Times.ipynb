{
 "cells": [
  {
   "cell_type": "code",
   "execution_count": 1,
   "id": "9c2e285e-61ef-449d-b48f-fd3b864dbf26",
   "metadata": {},
   "outputs": [],
   "source": [
    "import datetime as dt"
   ]
  },
  {
   "cell_type": "code",
   "execution_count": 7,
   "id": "97186748-be58-421b-ab42-ea0ba3b10d56",
   "metadata": {},
   "outputs": [
    {
     "data": {
      "text/plain": [
       "datetime.datetime(2024, 10, 23, 13, 52, 3, 460487)"
      ]
     },
     "execution_count": 7,
     "metadata": {},
     "output_type": "execute_result"
    }
   ],
   "source": [
    "dt.datetime.now()"
   ]
  },
  {
   "cell_type": "code",
   "execution_count": 9,
   "id": "6bcd9b1c-844b-403d-b0be-5459ea49503e",
   "metadata": {},
   "outputs": [],
   "source": [
    "import calendar as cal"
   ]
  },
  {
   "cell_type": "code",
   "execution_count": 11,
   "id": "543940f7-4db4-4f16-b1de-9b96dc9a5353",
   "metadata": {},
   "outputs": [
    {
     "name": "stdout",
     "output_type": "stream",
     "text": [
      "                                  2024\n",
      "\n",
      "      January                   February                   March\n",
      "Mo Tu We Th Fr Sa Su      Mo Tu We Th Fr Sa Su      Mo Tu We Th Fr Sa Su\n",
      " 1  2  3  4  5  6  7                1  2  3  4                   1  2  3\n",
      " 8  9 10 11 12 13 14       5  6  7  8  9 10 11       4  5  6  7  8  9 10\n",
      "15 16 17 18 19 20 21      12 13 14 15 16 17 18      11 12 13 14 15 16 17\n",
      "22 23 24 25 26 27 28      19 20 21 22 23 24 25      18 19 20 21 22 23 24\n",
      "29 30 31                  26 27 28 29               25 26 27 28 29 30 31\n",
      "\n",
      "       April                      May                       June\n",
      "Mo Tu We Th Fr Sa Su      Mo Tu We Th Fr Sa Su      Mo Tu We Th Fr Sa Su\n",
      " 1  2  3  4  5  6  7             1  2  3  4  5                      1  2\n",
      " 8  9 10 11 12 13 14       6  7  8  9 10 11 12       3  4  5  6  7  8  9\n",
      "15 16 17 18 19 20 21      13 14 15 16 17 18 19      10 11 12 13 14 15 16\n",
      "22 23 24 25 26 27 28      20 21 22 23 24 25 26      17 18 19 20 21 22 23\n",
      "29 30                     27 28 29 30 31            24 25 26 27 28 29 30\n",
      "\n",
      "        July                     August                  September\n",
      "Mo Tu We Th Fr Sa Su      Mo Tu We Th Fr Sa Su      Mo Tu We Th Fr Sa Su\n",
      " 1  2  3  4  5  6  7                1  2  3  4                         1\n",
      " 8  9 10 11 12 13 14       5  6  7  8  9 10 11       2  3  4  5  6  7  8\n",
      "15 16 17 18 19 20 21      12 13 14 15 16 17 18       9 10 11 12 13 14 15\n",
      "22 23 24 25 26 27 28      19 20 21 22 23 24 25      16 17 18 19 20 21 22\n",
      "29 30 31                  26 27 28 29 30 31         23 24 25 26 27 28 29\n",
      "                                                    30\n",
      "\n",
      "      October                   November                  December\n",
      "Mo Tu We Th Fr Sa Su      Mo Tu We Th Fr Sa Su      Mo Tu We Th Fr Sa Su\n",
      "    1  2  3  4  5  6                   1  2  3                         1\n",
      " 7  8  9 10 11 12 13       4  5  6  7  8  9 10       2  3  4  5  6  7  8\n",
      "14 15 16 17 18 19 20      11 12 13 14 15 16 17       9 10 11 12 13 14 15\n",
      "21 22 23 24 25 26 27      18 19 20 21 22 23 24      16 17 18 19 20 21 22\n",
      "28 29 30 31               25 26 27 28 29 30         23 24 25 26 27 28 29\n",
      "                                                    30 31\n"
     ]
    }
   ],
   "source": [
    "cal.prcal(2024)"
   ]
  },
  {
   "cell_type": "code",
   "execution_count": 17,
   "id": "8940c418-80f6-4507-9ad5-11f615d2951d",
   "metadata": {},
   "outputs": [],
   "source": [
    "import datetime as dt"
   ]
  },
  {
   "cell_type": "code",
   "execution_count": 19,
   "id": "b3baacff-ec0c-4c30-aa06-6b9e311f9321",
   "metadata": {},
   "outputs": [
    {
     "data": {
      "text/plain": [
       "datetime.datetime(2024, 10, 23, 14, 10, 19, 61400)"
      ]
     },
     "execution_count": 19,
     "metadata": {},
     "output_type": "execute_result"
    }
   ],
   "source": [
    "time_now = dt.datetime.now()\n",
    "time_now"
   ]
  },
  {
   "cell_type": "code",
   "execution_count": 21,
   "id": "c3009bda-fcd7-45cf-806b-4c292908a46c",
   "metadata": {},
   "outputs": [
    {
     "data": {
      "text/plain": [
       "datetime.date(2024, 10, 23)"
      ]
     },
     "execution_count": 21,
     "metadata": {},
     "output_type": "execute_result"
    }
   ],
   "source": [
    "time_now.date()"
   ]
  },
  {
   "cell_type": "code",
   "execution_count": 23,
   "id": "fa439643-9c9e-475c-b5fc-409e4ee16559",
   "metadata": {},
   "outputs": [
    {
     "data": {
      "text/plain": [
       "datetime.time(14, 10, 19, 61400)"
      ]
     },
     "execution_count": 23,
     "metadata": {},
     "output_type": "execute_result"
    }
   ],
   "source": [
    "time_now.time()"
   ]
  },
  {
   "cell_type": "code",
   "execution_count": 25,
   "id": "a9f4fd33-7d44-45fa-8eb9-95403da8134d",
   "metadata": {},
   "outputs": [
    {
     "name": "stdout",
     "output_type": "stream",
     "text": [
      "2024-10-23 11:10:19.061400\n",
      "3:00:00\n"
     ]
    }
   ],
   "source": [
    "time_before = time_now + dt.timedelta(hours=-3)\n",
    "print(time_before)\n",
    "delta = time_now-time_before\n",
    "print (delta)"
   ]
  },
  {
   "cell_type": "code",
   "execution_count": 35,
   "id": "e24e9f73-7ec1-4de9-814d-42a271705bfd",
   "metadata": {},
   "outputs": [
    {
     "name": "stdout",
     "output_type": "stream",
     "text": [
      "2024-10-20 02:41:19.061400\n",
      "3 days, 11:29:00\n"
     ]
    }
   ],
   "source": [
    "time_before = time_now + dt.timedelta(days=-3, hours=-11, minutes=-30, seconds=60)\n",
    "print(time_before)\n",
    "delta = time_now-time_before\n",
    "print (delta)"
   ]
  },
  {
   "cell_type": "code",
   "execution_count": 49,
   "id": "c5616e32-8c0f-403d-b86a-ea3727c06356",
   "metadata": {},
   "outputs": [
    {
     "name": "stdout",
     "output_type": "stream",
     "text": [
      "10\n",
      "October\n",
      "23\n",
      "Wednesday\n",
      "Wed\n",
      "2024\n",
      "24\n",
      "PM\n"
     ]
    }
   ],
   "source": [
    "print(time_now.strftime('%M'));print(time_now.strftime('%B'));\n",
    "print(time_now.strftime('%d'))\n",
    "print(time_now.strftime('%A'))\n",
    "print(time_now.strftime('%a'))\n",
    "print(time_now.strftime('%Y'))\n",
    "print(time_now.strftime('%y'))\n",
    "print(time_now.strftime('%p'))"
   ]
  },
  {
   "cell_type": "code",
   "execution_count": 51,
   "id": "1ccc8001-66d8-40eb-90f6-c3ed48f8b6c8",
   "metadata": {},
   "outputs": [],
   "source": [
    "time_again = dt.datetime.time(dt.datetime.now())"
   ]
  },
  {
   "cell_type": "code",
   "execution_count": 53,
   "id": "e6dae4bc-7135-4897-bdba-1988464d6005",
   "metadata": {},
   "outputs": [
    {
     "data": {
      "text/plain": [
       "datetime.time(14, 40, 22, 268341)"
      ]
     },
     "execution_count": 53,
     "metadata": {},
     "output_type": "execute_result"
    }
   ],
   "source": [
    "time_again"
   ]
  },
  {
   "cell_type": "code",
   "execution_count": null,
   "id": "31cf16cf-ad22-468b-b10a-b9bb1518a2d6",
   "metadata": {},
   "outputs": [],
   "source": []
  }
 ],
 "metadata": {
  "kernelspec": {
   "display_name": "Python 3 (ipykernel)",
   "language": "python",
   "name": "python3"
  },
  "language_info": {
   "codemirror_mode": {
    "name": "ipython",
    "version": 3
   },
   "file_extension": ".py",
   "mimetype": "text/x-python",
   "name": "python",
   "nbconvert_exporter": "python",
   "pygments_lexer": "ipython3",
   "version": "3.12.4"
  }
 },
 "nbformat": 4,
 "nbformat_minor": 5
}
