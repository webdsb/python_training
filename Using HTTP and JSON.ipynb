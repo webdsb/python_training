{
 "cells": [
  {
   "cell_type": "code",
   "execution_count": 1,
   "id": "3b06a85b-47a9-41a0-9b1b-c0b6d929ce99",
   "metadata": {},
   "outputs": [],
   "source": [
    "import requests\n",
    "import json\n",
    "url = 'http://localhost:9090/contacts.json'"
   ]
  },
  {
   "cell_type": "code",
   "execution_count": 3,
   "id": "73506bb0-df67-435c-a98e-38ba0baf5737",
   "metadata": {},
   "outputs": [],
   "source": [
    "resp = requests.get(url)"
   ]
  },
  {
   "cell_type": "code",
   "execution_count": 5,
   "id": "d8ed26e4-834e-4678-8ecf-7336959e76d3",
   "metadata": {},
   "outputs": [
    {
     "data": {
      "text/plain": [
       "True"
      ]
     },
     "execution_count": 5,
     "metadata": {},
     "output_type": "execute_result"
    }
   ],
   "source": [
    "resp.status_code == 200"
   ]
  },
  {
   "cell_type": "code",
   "execution_count": 7,
   "id": "04567486-0612-4d1c-84b7-85821821dda0",
   "metadata": {},
   "outputs": [
    {
     "data": {
      "text/plain": [
       "{'Server': 'SimpleHTTP/0.6 Python/3.12.4', 'Date': 'Fri, 25 Oct 2024 14:12:47 GMT', 'Content-type': 'application/json', 'Content-Length': '1182', 'Last-Modified': 'Fri, 25 Oct 2024 14:09:42 GMT'}"
      ]
     },
     "execution_count": 7,
     "metadata": {},
     "output_type": "execute_result"
    }
   ],
   "source": [
    "resp.headers"
   ]
  },
  {
   "cell_type": "code",
   "execution_count": 9,
   "id": "87a476a7-2349-4491-9109-844efd647193",
   "metadata": {},
   "outputs": [
    {
     "data": {
      "text/plain": [
       "[{'id': 1,\n",
       "  'name': 'Duane McDuff',\n",
       "  'company': 'Muxo',\n",
       "  'state': 'MA',\n",
       "  'phone': '508-367-7864'},\n",
       " {'id': 2,\n",
       "  'name': 'Rachelle Ciementini',\n",
       "  'company': 'Jazzy',\n",
       "  'state': 'MO',\n",
       "  'phone': '314-982-6499'},\n",
       " {'id': 3,\n",
       "  'name': 'Clementina Lambrechts',\n",
       "  'company': 'Cogibox',\n",
       "  'state': 'NY',\n",
       "  'phone': '518-859-9548'}]"
      ]
     },
     "execution_count": 9,
     "metadata": {},
     "output_type": "execute_result"
    }
   ],
   "source": [
    "contacts = resp.json(); contacts[0:3]"
   ]
  },
  {
   "cell_type": "code",
   "execution_count": 11,
   "id": "cef1b4a8-5bf5-4408-8e8b-df72a2b37eee",
   "metadata": {},
   "outputs": [
    {
     "data": {
      "text/plain": [
       "[('Duane McDuff', '508-367-7864'),\n",
       " ('Rachelle Ciementini', '314-982-6499'),\n",
       " ('Clementina Lambrechts', '518-859-9548'),\n",
       " ('Jedediah Dasent', '210-562-5974'),\n",
       " ('Edithe Izakovitz', '410-993-3937'),\n",
       " ('Marcelline Gell', '860-237-5161'),\n",
       " ('Buckie Snaden', '317-635-9563'),\n",
       " ('Andrew Calladine', '773-625-6184'),\n",
       " ('Camille Duckham', '757-674-6544'),\n",
       " ('Merrielle Stile', '508-439-8706')]"
      ]
     },
     "execution_count": 11,
     "metadata": {},
     "output_type": "execute_result"
    }
   ],
   "source": [
    "[(c.get('name', 'John Doe'), c.get('phone', 'Not Listed')) for c in contacts]"
   ]
  },
  {
   "cell_type": "code",
   "execution_count": 13,
   "id": "0ffbb46b-6253-4f8e-aa45-66cc6ad71dbc",
   "metadata": {},
   "outputs": [],
   "source": [
    "fileSave = 'savedContacts.json'\n",
    "with open (fileSave, 'w') as fout:\n",
    "    json.dump (contacts, fout)\n",
    "    "
   ]
  },
  {
   "cell_type": "code",
   "execution_count": 15,
   "id": "3278ddef-4a42-4982-9e87-e6d75e68c668",
   "metadata": {},
   "outputs": [],
   "source": [
    "with open (fileSave) as fin:\n",
    "    jsonFromFile = json.load(fin)"
   ]
  },
  {
   "cell_type": "code",
   "execution_count": 17,
   "id": "0d36de60-0cdb-469a-a297-161641669533",
   "metadata": {},
   "outputs": [],
   "source": [
    "assert jsonFromFile == contacts, \"They Don't Match\""
   ]
  },
  {
   "cell_type": "code",
   "execution_count": 19,
   "id": "03409af5-9b1c-416d-9ef2-b5a19bb8e0fc",
   "metadata": {},
   "outputs": [
    {
     "data": {
      "text/plain": [
       "[{'id': 1,\n",
       "  'name': 'Duane McDuff',\n",
       "  'company': 'Muxo',\n",
       "  'state': 'MA',\n",
       "  'phone': '508-367-7864'},\n",
       " {'id': 2,\n",
       "  'name': 'Rachelle Ciementini',\n",
       "  'company': 'Jazzy',\n",
       "  'state': 'MO',\n",
       "  'phone': '314-982-6499'},\n",
       " {'id': 3,\n",
       "  'name': 'Clementina Lambrechts',\n",
       "  'company': 'Cogibox',\n",
       "  'state': 'NY',\n",
       "  'phone': '518-859-9548'},\n",
       " {'id': 4,\n",
       "  'name': 'Jedediah Dasent',\n",
       "  'company': 'Jabberstorm',\n",
       "  'state': 'TX',\n",
       "  'phone': '210-562-5974'},\n",
       " {'id': 5,\n",
       "  'name': 'Edithe Izakovitz',\n",
       "  'company': 'Tavu',\n",
       "  'state': 'MD',\n",
       "  'phone': '410-993-3937'},\n",
       " {'id': 6,\n",
       "  'name': 'Marcelline Gell',\n",
       "  'company': 'Vitz',\n",
       "  'state': 'CT',\n",
       "  'phone': '860-237-5161'},\n",
       " {'id': 7,\n",
       "  'name': 'Buckie Snaden',\n",
       "  'company': 'Realbuzz',\n",
       "  'state': 'IN',\n",
       "  'phone': '317-635-9563'},\n",
       " {'id': 8,\n",
       "  'name': 'Andrew Calladine',\n",
       "  'company': 'Gabtype',\n",
       "  'state': 'IL',\n",
       "  'phone': '773-625-6184'},\n",
       " {'id': 9,\n",
       "  'name': 'Camille Duckham',\n",
       "  'company': 'Skynoodle',\n",
       "  'state': 'VA',\n",
       "  'phone': '757-674-6544'},\n",
       " {'id': 10,\n",
       "  'name': 'Merrielle Stile',\n",
       "  'company': 'Roomm',\n",
       "  'state': 'MA',\n",
       "  'phone': '508-439-8706'}]"
      ]
     },
     "execution_count": 19,
     "metadata": {},
     "output_type": "execute_result"
    }
   ],
   "source": [
    "jsonFromFile"
   ]
  },
  {
   "cell_type": "code",
   "execution_count": null,
   "id": "66f0caca-d30e-4742-842a-5c8817a9e98c",
   "metadata": {},
   "outputs": [],
   "source": []
  }
 ],
 "metadata": {
  "kernelspec": {
   "display_name": "Python 3 (ipykernel)",
   "language": "python",
   "name": "python3"
  },
  "language_info": {
   "codemirror_mode": {
    "name": "ipython",
    "version": 3
   },
   "file_extension": ".py",
   "mimetype": "text/x-python",
   "name": "python",
   "nbconvert_exporter": "python",
   "pygments_lexer": "ipython3",
   "version": "3.12.4"
  }
 },
 "nbformat": 4,
 "nbformat_minor": 5
}
